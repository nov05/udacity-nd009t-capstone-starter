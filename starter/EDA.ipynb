{
 "cells": [
  {
   "cell_type": "markdown",
   "metadata": {},
   "source": [
    "* notebook created by nov05 on 2024-12-30   \n",
    "* Read the dataset document on [Github](https://github.com/awslabs/open-data-docs/tree/main/docs/aft-vbi-pds)    \n",
    "* Check the [AWS Open Data Registry](https://registry.opendata.aws/amazon-bin-imagery/)      "
   ]
  },
  {
   "cell_type": "code",
   "execution_count": 2,
   "metadata": {},
   "outputs": [],
   "source": [
    "## windows cmd to launch notepad to edit aws credential file\n",
    "!notepad C:\\Users\\guido\\.aws\\credentials"
   ]
  },
  {
   "cell_type": "markdown",
   "metadata": {},
   "source": [
    "# 👉 **Amazon Bin Image Dataset**  \n",
    "* There are 500,000 images in the dataset.   "
   ]
  },
  {
   "cell_type": "code",
   "execution_count": 3,
   "metadata": {},
   "outputs": [
    {
     "name": "stdout",
     "output_type": "stream",
     "text": [
      "                           PRE bin-images/\n",
      "                           PRE metadata/\n",
      "2017-01-16 13:10:34      22309 LICENSE\n",
      "2016-06-25 15:17:05        184 NOTICE\n",
      "2016-06-23 21:56:47       3976 index.html\n"
     ]
    }
   ],
   "source": [
    "## arn:aws:s3:::aft-vbi-pds\n",
    "!aws s3 ls --no-sign-request s3://aft-vbi-pds/"
   ]
  },
  {
   "cell_type": "code",
   "execution_count": 21,
   "metadata": {},
   "outputs": [
    {
     "name": "stdout",
     "output_type": "stream",
     "text": [
      "Completed 110.0 KiB/110.0 KiB (137.6 KiB/s) with 1 file(s) remaining\n",
      "download: s3://aft-vbi-pds/bin-images/242.jpg to ..\\data\\242.jpg    \n"
     ]
    }
   ],
   "source": [
    "!aws s3 cp --no-sign-request s3://aft-vbi-pds/bin-images/242.jpg ../data/242.jpg"
   ]
  },
  {
   "cell_type": "code",
   "execution_count": 22,
   "metadata": {},
   "outputs": [
    {
     "name": "stdout",
     "output_type": "stream",
     "text": [
      "Completed 714 Bytes/714 Bytes (1.2 KiB/s) with 1 file(s) remaining\n",
      "download: s3://aft-vbi-pds/metadata/242.json to ..\\data\\242.json  \n"
     ]
    }
   ],
   "source": [
    "!aws s3 cp --no-sign-request s3://aft-vbi-pds/metadata/242.json ../data/242.json"
   ]
  },
  {
   "cell_type": "code",
   "execution_count": null,
   "metadata": {},
   "outputs": [
    {
     "name": "stdout",
     "output_type": "stream",
     "text": [
      "Completed 36.7 KiB/36.7 KiB (55.0 KiB/s) with 1 file(s) remaining\n",
      "download: s3://aft-vbi-pds/bin-images/02157.jpg to ..\\data\\02157.jpg\n",
      "Completed 2.0 KiB/2.0 KiB (3.5 KiB/s) with 1 file(s) remaining\n",
      "download: s3://aft-vbi-pds/metadata/02157.json to ..\\data\\02157.json\n"
     ]
    }
   ],
   "source": [
    "# !aws s3 cp --no-sign-request s3://aft-vbi-pds/bin-images/02157.jpg ../data/02157.jpg\n",
    "# !aws s3 cp --no-sign-request s3://aft-vbi-pds/metadata/02157.json ../data/02157.json"
   ]
  },
  {
   "cell_type": "code",
   "execution_count": 25,
   "metadata": {},
   "outputs": [
    {
     "name": "stdout",
     "output_type": "stream",
     "text": [
      "{'BIN_FCSKU_DATA': {'B010E0N7ZU': {'asin': 'B010E0N7ZU',\n",
      "                                   'height': {'unit': 'IN', 'value': 7.1},\n",
      "                                   'length': {'unit': 'IN', 'value': 10.8},\n",
      "                                   'name': 'Café Break-Resistant Plastic 20oz '\n",
      "                                           'Restaurant-Quality Beverage '\n",
      "                                           'Tumblers | Set of 16 in 4 Assorted '\n",
      "                                           'Colors',\n",
      "                                   'quantity': 1,\n",
      "                                   'weight': {'unit': 'pounds', 'value': 2.85},\n",
      "                                   'width': {'unit': 'IN', 'value': 7.7}}},\n",
      " 'EXPECTED_QUANTITY': 1,\n",
      " 'image_fname': '242.jpg'}\n"
     ]
    }
   ],
   "source": [
    "import json\n",
    "from pprint import pprint\n",
    "with open('../data/242.json', 'r') as file:\n",
    "    data = json.load(file)\n",
    "pprint(data)"
   ]
  },
  {
   "cell_type": "code",
   "execution_count": 28,
   "metadata": {},
   "outputs": [
    {
     "name": "stdout",
     "output_type": "stream",
     "text": [
      "1228\n"
     ]
    }
   ],
   "source": [
    "## The file_list.json file in the starter folder contains a list of files that are available in the s3 bucket.  \n",
    "## It lists out 1228 of the 500,000 files.  \n",
    "with open('file_list.json', 'r') as f:\n",
    "    d = json.load(f)\n",
    "print(len(d[\"1\"]))"
   ]
  },
  {
   "cell_type": "markdown",
   "metadata": {},
   "source": [
    "# 👉 **Kaggle dataset**  \n",
    "\n",
    "* Get metadata.sqlite from [Kaggle](https://www.kaggle.com/datasets/dhruvildave/amazon-bin-image-dataset/data). This dataset contains 50,000 images, which are 1/10 of the original dataset.    \n",
    "* This dataset won't be used for this project.   "
   ]
  },
  {
   "cell_type": "code",
   "execution_count": 19,
   "metadata": {},
   "outputs": [
    {
     "data": {
      "text/html": [
       "<div>\n",
       "<style scoped>\n",
       "    .dataframe tbody tr th:only-of-type {\n",
       "        vertical-align: middle;\n",
       "    }\n",
       "\n",
       "    .dataframe tbody tr th {\n",
       "        vertical-align: top;\n",
       "    }\n",
       "\n",
       "    .dataframe thead th {\n",
       "        text-align: right;\n",
       "    }\n",
       "</style>\n",
       "<table border=\"1\" class=\"dataframe\">\n",
       "  <thead>\n",
       "    <tr style=\"text-align: right;\">\n",
       "      <th></th>\n",
       "      <th>data</th>\n",
       "      <th>quantity</th>\n",
       "    </tr>\n",
       "  </thead>\n",
       "  <tbody>\n",
       "    <tr>\n",
       "      <th>0</th>\n",
       "      <td>{\"B000LRH9J2\":{\"asin\":\"B000LRH9J2\",\"height\":{\"...</td>\n",
       "      <td>6</td>\n",
       "    </tr>\n",
       "  </tbody>\n",
       "</table>\n",
       "</div>"
      ],
      "text/plain": [
       "                                                data  quantity\n",
       "0  {\"B000LRH9J2\":{\"asin\":\"B000LRH9J2\",\"height\":{\"...         6"
      ]
     },
     "execution_count": 19,
     "metadata": {},
     "output_type": "execute_result"
    }
   ],
   "source": [
    "import pandas as pd\n",
    "from pprint import pprint\n",
    "import sqlite3\n",
    "conn = sqlite3.connect(\"../data/metadata.sqlite\")\n",
    "df = pd.read_sql_query(\"\"\"\n",
    "SELECT json_extract(data, '$.BIN_FCSKU_DATA') AS data,\n",
    "    json_extract(data, '$.EXPECTED_QUANTITY') AS quantity\n",
    "FROM metadata\n",
    "WHERE img_id = '00242';\n",
    "\"\"\", conn)\n",
    "df"
   ]
  },
  {
   "cell_type": "code",
   "execution_count": 15,
   "metadata": {},
   "outputs": [
    {
     "name": "stdout",
     "output_type": "stream",
     "text": [
      "{'B000LRH9J2': {'asin': 'B000LRH9J2',\n",
      "                'height': {'unit': 'IN', 'value': 2.49999999745},\n",
      "                'length': {'unit': 'IN', 'value': 5.799999994084},\n",
      "                'name': 'Mint Leaf Crushed (Castella) 3 oz',\n",
      "                'normalizedName': 'Mint Leaf Crushed (Castella) 3 oz',\n",
      "                'quantity': 2,\n",
      "                'weight': {'unit': 'pounds', 'value': 0.3},\n",
      "                'width': {'unit': 'IN', 'value': 2.699999997246}},\n",
      " 'B001005KVS': {'asin': 'B001005KVS',\n",
      "                'height': {'unit': 'IN', 'value': 4.199999995716},\n",
      "                'length': {'unit': 'IN', 'value': 4.899999995002001},\n",
      "                'name': 'Absolute Coatings 3775 Last N Last Wood Finish '\n",
      "                        'Acrylic Satin Clear, 1 quart',\n",
      "                'normalizedName': 'Absolute Coatings 3775 Last N Last Wood '\n",
      "                                  'Finish Acrylic Satin Clear, 1 quart',\n",
      "                'quantity': 2,\n",
      "                'weight': {'unit': 'pounds', 'value': 2.3499999980293125},\n",
      "                'width': {'unit': 'IN', 'value': 4.299999995614}},\n",
      " 'B00XHYVS16': {'asin': 'B00XHYVS16',\n",
      "                'height': {'unit': 'IN', 'value': 1.599999998368},\n",
      "                'length': {'unit': 'IN', 'value': 7.599999992248},\n",
      "                'name': 'i-smile® 15PCS Replacement Bands with Metal Clasps '\n",
      "                        'for Fitbit Flex / Wireless Activity Bracelet Sport '\n",
      "                        'Wristband / Fitbit Flex Bracelet Sport Arm Band (No '\n",
      "                        'tracker, Replacement Bands Only) & 2PCS Silicon '\n",
      "                        'Fastener Ring For Free (Set of 15, Large)',\n",
      "                'normalizedName': 'Set of 15 i-smile® 15PCS Replacement Bands '\n",
      "                                  'with Metal Clasps for Fitbit Flex / '\n",
      "                                  'Wireless Activity Bracelet Sport Wristband '\n",
      "                                  '/ Fitbit Flex Bracelet Sport Arm Band (No '\n",
      "                                  'tracker, Replacement Bands Only) & 2PCS '\n",
      "                                  'Silicon Fastener Ring For Free ( , Large)',\n",
      "                'quantity': 1,\n",
      "                'weight': {'unit': 'pounds', 'value': 0.39999999966456384},\n",
      "                'width': {'unit': 'IN', 'value': 5.699999994186001}},\n",
      " 'B01DP22MF0': {'asin': 'B01DP22MF0',\n",
      "                'height': {'unit': 'IN', 'value': 1.4173228332},\n",
      "                'length': {'unit': 'IN', 'value': 2.0472440924},\n",
      "                'name': 'Anmao 18K White Gold Plated Square Cz Stud Earrings '\n",
      "                        'Setting For Women Earrings STD-01',\n",
      "                'normalizedName': 'Anmao 18K White Gold Plated Square Cz Stud '\n",
      "                                  'Earrings Setting For Women Earrings STD-01',\n",
      "                'quantity': 1,\n",
      "                'weight': {'unit': 'pounds', 'value': 0.10999999990775504},\n",
      "                'width': {'unit': 'IN', 'value': 1.6535433054}}}\n"
     ]
    }
   ],
   "source": [
    "pprint(json.loads(df.loc[0, \"data\"]))"
   ]
  },
  {
   "cell_type": "code",
   "execution_count": 20,
   "metadata": {},
   "outputs": [
    {
     "data": {
      "text/html": [
       "<div>\n",
       "<style scoped>\n",
       "    .dataframe tbody tr th:only-of-type {\n",
       "        vertical-align: middle;\n",
       "    }\n",
       "\n",
       "    .dataframe tbody tr th {\n",
       "        vertical-align: top;\n",
       "    }\n",
       "\n",
       "    .dataframe thead th {\n",
       "        text-align: right;\n",
       "    }\n",
       "</style>\n",
       "<table border=\"1\" class=\"dataframe\">\n",
       "  <thead>\n",
       "    <tr style=\"text-align: right;\">\n",
       "      <th></th>\n",
       "      <th>data</th>\n",
       "      <th>qnty</th>\n",
       "    </tr>\n",
       "  </thead>\n",
       "  <tbody>\n",
       "    <tr>\n",
       "      <th>0</th>\n",
       "      <td>{'B018240DGG': {'asin': 'B018240DGG', 'height'...</td>\n",
       "      <td>3</td>\n",
       "    </tr>\n",
       "    <tr>\n",
       "      <th>1</th>\n",
       "      <td>{'1593859864': {'asin': '1593859864', 'height'...</td>\n",
       "      <td>6</td>\n",
       "    </tr>\n",
       "    <tr>\n",
       "      <th>2</th>\n",
       "      <td>{'B000052Z9F': {'asin': 'B000052Z9F', 'height'...</td>\n",
       "      <td>9</td>\n",
       "    </tr>\n",
       "    <tr>\n",
       "      <th>3</th>\n",
       "      <td>{'B00065PQTO': {'asin': 'B00065PQTO', 'height'...</td>\n",
       "      <td>5</td>\n",
       "    </tr>\n",
       "    <tr>\n",
       "      <th>4</th>\n",
       "      <td>{'B00H3L51XA': {'asin': 'B00H3L51XA', 'height'...</td>\n",
       "      <td>8</td>\n",
       "    </tr>\n",
       "    <tr>\n",
       "      <th>...</th>\n",
       "      <td>...</td>\n",
       "      <td>...</td>\n",
       "    </tr>\n",
       "    <tr>\n",
       "      <th>49995</th>\n",
       "      <td>{'0205616887': {'asin': '0205616887', 'height'...</td>\n",
       "      <td>5</td>\n",
       "    </tr>\n",
       "    <tr>\n",
       "      <th>49996</th>\n",
       "      <td>{'B00F4O8O3C': {'asin': 'B00F4O8O3C', 'height'...</td>\n",
       "      <td>4</td>\n",
       "    </tr>\n",
       "    <tr>\n",
       "      <th>49997</th>\n",
       "      <td>{'0783237367': {'asin': '0783237367', 'height'...</td>\n",
       "      <td>12</td>\n",
       "    </tr>\n",
       "    <tr>\n",
       "      <th>49998</th>\n",
       "      <td>{'B004I2F49I': {'asin': 'B004I2F49I', 'height'...</td>\n",
       "      <td>5</td>\n",
       "    </tr>\n",
       "    <tr>\n",
       "      <th>49999</th>\n",
       "      <td>{'B0009XCJF2': {'asin': 'B0009XCJF2', 'height'...</td>\n",
       "      <td>3</td>\n",
       "    </tr>\n",
       "  </tbody>\n",
       "</table>\n",
       "<p>50000 rows × 2 columns</p>\n",
       "</div>"
      ],
      "text/plain": [
       "                                                    data  qnty\n",
       "0      {'B018240DGG': {'asin': 'B018240DGG', 'height'...     3\n",
       "1      {'1593859864': {'asin': '1593859864', 'height'...     6\n",
       "2      {'B000052Z9F': {'asin': 'B000052Z9F', 'height'...     9\n",
       "3      {'B00065PQTO': {'asin': 'B00065PQTO', 'height'...     5\n",
       "4      {'B00H3L51XA': {'asin': 'B00H3L51XA', 'height'...     8\n",
       "...                                                  ...   ...\n",
       "49995  {'0205616887': {'asin': '0205616887', 'height'...     5\n",
       "49996  {'B00F4O8O3C': {'asin': 'B00F4O8O3C', 'height'...     4\n",
       "49997  {'0783237367': {'asin': '0783237367', 'height'...    12\n",
       "49998  {'B004I2F49I': {'asin': 'B004I2F49I', 'height'...     5\n",
       "49999  {'B0009XCJF2': {'asin': 'B0009XCJF2', 'height'...     3\n",
       "\n",
       "[50000 rows x 2 columns]"
      ]
     },
     "execution_count": 20,
     "metadata": {},
     "output_type": "execute_result"
    }
   ],
   "source": [
    "df = pd.read_sql_query(\"\"\"\n",
    "SELECT json_extract(data, '$.BIN_FCSKU_DATA') AS data,\n",
    "    json_extract(data, '$.EXPECTED_QUANTITY') AS qnty\n",
    "FROM metadata;\n",
    "\"\"\", conn)\n",
    "df.data = df.data.apply(json.loads)\n",
    "df"
   ]
  },
  {
   "cell_type": "markdown",
   "metadata": {},
   "source": [
    "# 👉 **Baselines**"
   ]
  },
  {
   "cell_type": "code",
   "execution_count": 1,
   "metadata": {},
   "outputs": [
    {
     "name": "stdout",
     "output_type": "stream",
     "text": [
      "total image count: 140536\n",
      "largest class baseline: 22.27%\n",
      "random class baseline: 20.08%\n"
     ]
    }
   ],
   "source": [
    "counts = [\n",
    "    [3, 34985],\n",
    "    [4, 31301],\n",
    "    [2, 29956],\n",
    "    [5, 24250],\n",
    "    [1, 16201],\n",
    "    [0, 3843]\n",
    "]\n",
    "total = sum([e[1] for e in counts])\n",
    "print(f\"total image count: {total}\")\n",
    "print(f\"largest class baseline: {counts[1][1]/total*100:.2f}%\")\n",
    "print(f\"random class baseline: {sum([(c[1]/total)**2 for c in counts])*100:.2f}%\")"
   ]
  },
  {
   "cell_type": "code",
   "execution_count": null,
   "metadata": {},
   "outputs": [],
   "source": []
  }
 ],
 "metadata": {
  "kernelspec": {
   "display_name": "awsmle_py310",
   "language": "python",
   "name": "python3"
  },
  "language_info": {
   "codemirror_mode": {
    "name": "ipython",
    "version": 3
   },
   "file_extension": ".py",
   "mimetype": "text/x-python",
   "name": "python",
   "nbconvert_exporter": "python",
   "pygments_lexer": "ipython3",
   "version": "3.10.15"
  }
 },
 "nbformat": 4,
 "nbformat_minor": 2
}
