{
 "cells": [
  {
   "cell_type": "markdown",
   "metadata": {},
   "source": [
    "* Notebook created by nov05 on 2025-02-07\n",
    "* It was run locally with conda env `sagemaker_py310`.  \n",
    "* Compare training results with [this model](https://github.com/silverbottlep/abid_challenge/blob/master/counting/train.py#L191)  \n",
    "* [Issues during training](https://gist.github.com/nov05/1bdc15eda0e781640b46ab28d38f45bd)   "
   ]
  },
  {
   "cell_type": "markdown",
   "metadata": {},
   "source": [
    "# 👉 **AWS Credentials**"
   ]
  },
  {
   "cell_type": "code",
   "execution_count": 3,
   "metadata": {},
   "outputs": [
    {
     "data": {
      "text/plain": [
       "'d:\\\\github\\\\udacity-nd009t-capstone-starter\\\\starter'"
      ]
     },
     "execution_count": 3,
     "metadata": {},
     "output_type": "execute_result"
    }
   ],
   "source": [
    "%pwd"
   ]
  },
  {
   "cell_type": "code",
   "execution_count": 8,
   "metadata": {},
   "outputs": [],
   "source": [
    "## windows cmd to launch notepad to edit aws credential file\n",
    "# !notepad C:\\Users\\guido\\.aws\\config\n",
    "!notepad C:\\Users\\guido\\.aws\\credentials"
   ]
  },
  {
   "cell_type": "code",
   "execution_count": 9,
   "metadata": {},
   "outputs": [
    {
     "data": {
      "text/html": [
       "<pre style=\"white-space:pre;overflow-x:auto;line-height:normal;font-family:Menlo,'DejaVu Sans Mono',consolas,'Courier New',monospace\"><span style=\"color: #7fbfbf; text-decoration-color: #7fbfbf\">[02/07/25 14:13:46] </span><span style=\"color: #0069ff; text-decoration-color: #0069ff; font-weight: bold\">INFO    </span> Found credentials in shared credentials file: ~<span style=\"color: #e100e1; text-decoration-color: #e100e1\">/.aws/credentials</span>   <a href=\"file://d:\\Users\\guido\\miniconda3\\envs\\awsmle_py310\\lib\\site-packages\\botocore\\credentials.py\" target=\"_blank\"><span style=\"color: #7f7f7f; text-decoration-color: #7f7f7f\">credentials.py</span></a><span style=\"color: #7f7f7f; text-decoration-color: #7f7f7f\">:</span><a href=\"file://d:\\Users\\guido\\miniconda3\\envs\\awsmle_py310\\lib\\site-packages\\botocore\\credentials.py#1278\" target=\"_blank\"><span style=\"color: #7f7f7f; text-decoration-color: #7f7f7f\">1278</span></a>\n",
       "</pre>\n"
      ],
      "text/plain": [
       "\u001b[2;36m[02/07/25 14:13:46]\u001b[0m\u001b[2;36m \u001b[0m\u001b[1;38;2;0;105;255mINFO    \u001b[0m Found credentials in shared credentials file: ~\u001b[38;2;225;0;225m/.aws/\u001b[0m\u001b[38;2;225;0;225mcredentials\u001b[0m   \u001b]8;id=606535;file://d:\\Users\\guido\\miniconda3\\envs\\awsmle_py310\\lib\\site-packages\\botocore\\credentials.py\u001b\\\u001b[2mcredentials.py\u001b[0m\u001b]8;;\u001b\\\u001b[2m:\u001b[0m\u001b]8;id=395848;file://d:\\Users\\guido\\miniconda3\\envs\\awsmle_py310\\lib\\site-packages\\botocore\\credentials.py#1278\u001b\\\u001b[2m1278\u001b[0m\u001b]8;;\u001b\\\n"
      ]
     },
     "metadata": {},
     "output_type": "display_data"
    },
    {
     "data": {
      "text/html": [
       "<pre style=\"white-space:pre;overflow-x:auto;line-height:normal;font-family:Menlo,'DejaVu Sans Mono',consolas,'Courier New',monospace\"><span style=\"color: #7fbfbf; text-decoration-color: #7fbfbf\">[02/07/25 14:13:50] </span><span style=\"color: #d7af00; text-decoration-color: #d7af00; font-weight: bold\">WARNING </span> Couldn't call <span style=\"color: #008700; text-decoration-color: #008700\">'get_role'</span> to get Role ARN from role name voclabs to get <a href=\"file://d:\\Users\\guido\\miniconda3\\envs\\awsmle_py310\\lib\\site-packages\\sagemaker\\session.py\" target=\"_blank\"><span style=\"color: #7f7f7f; text-decoration-color: #7f7f7f\">session.py</span></a><span style=\"color: #7f7f7f; text-decoration-color: #7f7f7f\">:</span><a href=\"file://d:\\Users\\guido\\miniconda3\\envs\\awsmle_py310\\lib\\site-packages\\sagemaker\\session.py#5971\" target=\"_blank\"><span style=\"color: #7f7f7f; text-decoration-color: #7f7f7f\">5971</span></a>\n",
       "<span style=\"color: #7fbfbf; text-decoration-color: #7fbfbf\">                    </span>         Role path.                                                             <span style=\"color: #7f7f7f; text-decoration-color: #7f7f7f\">               </span>\n",
       "</pre>\n"
      ],
      "text/plain": [
       "\u001b[2;36m[02/07/25 14:13:50]\u001b[0m\u001b[2;36m \u001b[0m\u001b[1;38;2;215;175;0mWARNING \u001b[0m Couldn't call \u001b[38;2;0;135;0m'get_role'\u001b[0m to get Role ARN from role name voclabs to get \u001b]8;id=394106;file://d:\\Users\\guido\\miniconda3\\envs\\awsmle_py310\\lib\\site-packages\\sagemaker\\session.py\u001b\\\u001b[2msession.py\u001b[0m\u001b]8;;\u001b\\\u001b[2m:\u001b[0m\u001b]8;id=497185;file://d:\\Users\\guido\\miniconda3\\envs\\awsmle_py310\\lib\\site-packages\\sagemaker\\session.py#5971\u001b\\\u001b[2m5971\u001b[0m\u001b]8;;\u001b\\\n",
       "\u001b[2;36m                    \u001b[0m         Role path.                                                             \u001b[2m               \u001b[0m\n"
      ]
     },
     "metadata": {},
     "output_type": "display_data"
    },
    {
     "name": "stdout",
     "output_type": "stream",
     "text": [
      "Current AWS Account ID: 570668189909\n",
      "AWS Region: us-east-1\n",
      "Default Bucket: sagemaker-us-east-1-570668189909\n",
      "Role voclabs ARN: arn:aws:iam::570668189909:role/voclabs\n",
      "SageMaker Role ARN: arn:aws:iam::570668189909:role/service-role/AmazonSageMaker-ExecutionRole-20250126T194519\n"
     ]
    }
   ],
   "source": [
    "## reset the session after updating credentials\n",
    "import boto3 # type: ignore\n",
    "boto3.DEFAULT_SESSION = None\n",
    "import sagemaker # type: ignore\n",
    "from sagemaker import get_execution_role # type: ignore\n",
    "\n",
    "# Extract and print the account ID\n",
    "sts_client = boto3.client('sts')\n",
    "response = sts_client.get_caller_identity() \n",
    "account_id = response['Account']\n",
    "\n",
    "role_arn = get_execution_role()  ## get role ARN\n",
    "if 'AmazonSageMaker-ExecutionRole' not in role_arn:\n",
    "    ## Go to \"IAM - Roles\", search for \"SageMaker\", find the execution role.\n",
    "    voclabs_role_arn = role_arn\n",
    "    sagemaker_role_arn = \"arn:aws:iam::570668189909:role/service-role/AmazonSageMaker-ExecutionRole-20250126T194519\"\n",
    "session = sagemaker.Session()  ## \"default\"\n",
    "region = session.boto_region_name\n",
    "bucket = session.default_bucket()\n",
    "\n",
    "print(f\"Current AWS Account ID: {account_id}\")\n",
    "print(\"AWS Region: {}\".format(region))\n",
    "print(\"Default Bucket: {}\".format(bucket))\n",
    "print(f\"Role voclabs ARN: {voclabs_role_arn}\") ## If local, Role ARN: arn:aws:iam::807711953667:role/voclabs\n",
    "print(\"SageMaker Role ARN: {}\".format(sagemaker_role_arn)) \n",
    "\n",
    "## generate secrets.env. remember to add it to .gitignore  \n",
    "import wandb\n",
    "wandb.sagemaker_auth(path=\"../secrets\") \n",
    "\n",
    "## get my own AWS account info\n",
    "def get_secrets(name):\n",
    "    path = '../secrets/' + name\n",
    "    with open(path, 'r') as file:\n",
    "        for line in file:\n",
    "            return line.strip()\n",
    "aws_account_number = get_secrets('aws_account_number')\n",
    "aws_account_profile = get_secrets('aws_account_profile')"
   ]
  },
  {
   "cell_type": "markdown",
   "metadata": {},
   "source": [
    "# **👉 Training**"
   ]
  },
  {
   "cell_type": "code",
   "execution_count": 14,
   "metadata": {},
   "outputs": [
    {
     "name": "stdout",
     "output_type": "stream",
     "text": [
      "CPU times: total: 33.6 s\n",
      "Wall time: 20min 4s\n"
     ]
    }
   ],
   "source": [
    "%%time \n",
    "from sagemaker.pytorch import PyTorch\n",
    "from datetime import datetime\n",
    "data_base_path = \"s3://p5-amazon-bin-images/webdataset/\"\n",
    "train_data_path = data_base_path + \"train/train-shard-{000000..000007}.tar\"\n",
    "val_data_path = data_base_path + \"val/val-shard-{000000..000001}.tar\"\n",
    "test_data_path = data_base_path + \"test/test-shard-{000000..000001}.tar\"\n",
    "print(train_data_path)\n",
    "output_path = \"s3://p5-amazon-bin-images-train/\"  \n",
    "## Manually set dataset sizes hyperparameters\n",
    "l = 10441  ## 10K dataset\n",
    "split_ratio=[0.7, 0.15, 0.15]\n",
    "train_data_size = int(l*split_ratio[0])\n",
    "val_data_size = int(l*split_ratio[1])\n",
    "test_data_size = l - train_data_size - val_data_size\n",
    "print(f\"train_size: {train_data_size}, val_size: {val_data_size}, test_size: {test_data_size}\")\n",
    "## s3://p5-amazon-bin-images/webdataset/train/train-shard-{000000..000007}.tar\n",
    "## train_size: 7308, val_size: 1566, test_size: 1567\n",
    "hyperparameters = {\n",
    "    'epochs': 30,   \n",
    "    'batch-size': 128,   \n",
    "    'opt-type': 'sgd',         ## 👉 SGD optimizer\n",
    "    'opt-momentum': 0.9,       ## 👉 SGD optimizer\n",
    "    'opt-learning-rate': 0.1,  ## 👉 SGD optimizer\n",
    "    # 'opt-weight-decay': 1e-4,  \n",
    "    'lr-sched-step-size': 10,  ## 👉 optimizer learning rate scheduler\n",
    "    # 'lr-sched-gamma': 0.5,\n",
    "    'early-stopping-patience': 1,  ## set larger than epochs if no early stopping\n",
    "    'model-arch': 'resnet34', \n",
    "    'wandb': True,  \n",
    "    'debug': False, \n",
    "## input data \n",
    "    \"train-data-path\": train_data_path,\n",
    "    \"val-data-path\": val_data_path,\n",
    "    \"test-data-path\": test_data_path,\n",
    "    \"train-data-size\": train_data_size, \n",
    "    \"val-data-size\": val_data_size,\n",
    "    \"test-data-size\": test_data_size,\n",
    "    \"class-weights-dict\": {\n",
    "        1: 1.7004885993485341, \n",
    "        2: 0.9083079599826012, \n",
    "        3: 0.7832708177044261, \n",
    "        4: 0.8799831436999579, \n",
    "        5: 1.1137066666666666\n",
    "    },\n",
    "}\n",
    "estimator = PyTorch(\n",
    "    entry_point='train_v1.py',  # Your training script that defines the ResNet50 model and training loop\n",
    "    source_dir='../scripts_train',  # Directory where your script and dependencies are stored\n",
    "    role=sagemaker_role_arn,\n",
    "    framework_version='1.13.1',  # Use the PyTorch version you need\n",
    "    py_version='py39',\n",
    "    instance_count=2,  ## multi-instance training, Udacity account level limit 2\n",
    "    instance_type='ml.g4dn.xlarge',  ## 16GB, 1 GPU per instance\n",
    "    output_path=output_path,  ## if not specify, output to the sagemaker default bucket\n",
    "    hyperparameters=hyperparameters,\n",
    "    distribution={\"smdistributed\": {\"dataparallel\": { \"enabled\": True}}},  # mpirun, activates SMDDP AllReduce OR AllGather\n",
    ") \n",
    "estimator.fit(\n",
    "    wait=True,  \n",
    "    job_name=f\"p5-amazon-bin-job-{datetime.now().strftime('%Y%m%d-%H%M%S')}\", \n",
    ")"
   ]
  },
  {
   "cell_type": "code",
   "execution_count": 12,
   "metadata": {},
   "outputs": [
    {
     "name": "stdout",
     "output_type": "stream",
     "text": [
      "Failed\n"
     ]
    }
   ],
   "source": [
    "import boto3\n",
    "sagemaker_client = boto3.client('sagemaker')\n",
    "training_job_name = \"p5-amazon-bin-job-20250207-133812\"\n",
    "response = sagemaker_client.describe_training_job(TrainingJobName=training_job_name)\n",
    "status = response['TrainingJobStatus']\n",
    "print(status)"
   ]
  },
  {
   "cell_type": "markdown",
   "metadata": {},
   "source": [
    "* 5 epochs test run\n",
    "    ```\n",
    "    2025-02-07 18:25:49 Uploading - Uploading generated training model\n",
    "    2025-02-07 18:25:49 Completed - Training job completed\n",
    "    Training seconds: 1356\n",
    "    Billable seconds: 1356\n",
    "    CPU times: total: 21.7 s\n",
    "    Wall time: 12min 44s\n",
    "    ```"
   ]
  },
  {
   "cell_type": "code",
   "execution_count": null,
   "metadata": {},
   "outputs": [],
   "source": []
  }
 ],
 "metadata": {
  "instance_type": "ml.g4dn.xlarge",
  "kernelspec": {
   "display_name": "awsmle_py310",
   "language": "python",
   "name": "python3"
  },
  "language_info": {
   "codemirror_mode": {
    "name": "ipython",
    "version": 3
   },
   "file_extension": ".py",
   "mimetype": "text/x-python",
   "name": "python",
   "nbconvert_exporter": "python",
   "pygments_lexer": "ipython3",
   "version": "3.10.16"
  }
 },
 "nbformat": 4,
 "nbformat_minor": 4
}
