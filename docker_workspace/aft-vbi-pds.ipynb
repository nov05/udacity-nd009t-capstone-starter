{
 "cells": [
  {
   "cell_type": "markdown",
   "metadata": {},
   "source": [
    "* notebook created by nov05 on 2025-01-22"
   ]
  },
  {
   "cell_type": "code",
   "execution_count": 1,
   "metadata": {},
   "outputs": [
    {
     "name": "stderr",
     "output_type": "stream",
     "text": [
      "SLF4J: Class path contains multiple SLF4J bindings.\n",
      "SLF4J: Found binding in [jar:file:/home/glue_user/spark/jars/slf4j-reload4j-1.7.36.jar!/org/slf4j/impl/StaticLoggerBinder.class]\n",
      "SLF4J: Found binding in [jar:file:/home/glue_user/spark/jars/log4j-slf4j-impl-2.17.2.jar!/org/slf4j/impl/StaticLoggerBinder.class]\n",
      "SLF4J: Found binding in [jar:file:/home/glue_user/aws-glue-libs/jars/slf4j-reload4j-1.7.36.jar!/org/slf4j/impl/StaticLoggerBinder.class]\n",
      "SLF4J: Found binding in [jar:file:/home/glue_user/aws-glue-libs/jars/log4j-slf4j-impl-2.17.2.jar!/org/slf4j/impl/StaticLoggerBinder.class]\n",
      "SLF4J: See http://www.slf4j.org/codes.html#multiple_bindings for an explanation.\n",
      "SLF4J: Actual binding is of type [org.slf4j.impl.Reload4jLoggerFactory]\n",
      "log4j:WARN No appenders could be found for logger (org.apache.hadoop.metrics2.lib.MutableMetricsFactory).\n",
      "log4j:WARN Please initialize the log4j system properly.\n",
      "log4j:WARN See http://logging.apache.org/log4j/1.2/faq.html#noconfig for more info.\n",
      "/home/glue_user/spark/python/pyspark/sql/context.py:112: FutureWarning: Deprecated in 3.0.0. Use SparkSession.builder.getOrCreate() instead.\n",
      "  warnings.warn(\n",
      "/home/glue_user/spark/python/pyspark/sql/dataframe.py:127: UserWarning: DataFrame constructor is internal. Do not directly use it.\n",
      "  warnings.warn(\"DataFrame constructor is internal. Do not directly use it.\")\n"
     ]
    },
    {
     "name": "stdout",
     "output_type": "stream",
     "text": [
      "+--------------------+-----------------+\n",
      "|      bin_fcsku_data|expected_quantity|\n",
      "+--------------------+-----------------+\n",
      "|{B00KUFFIQQ -> {B...|                4|\n",
      "|{B01DDR0BX2 -> {B...|                4|\n",
      "|{B00LFSM004 -> {B...|                4|\n",
      "|{B00I0444P0 -> {B...|                3|\n",
      "|{B0156J3PUQ -> {B...|                3|\n",
      "+--------------------+-----------------+\n",
      "only showing top 5 rows\n",
      "\n"
     ]
    }
   ],
   "source": [
    "from awsglue.context import GlueContext\n",
    "from pyspark.context import SparkContext\n",
    "\n",
    "# Initialize GlueContext and SparkContext\n",
    "sc = SparkContext.getOrCreate()\n",
    "glueContext = GlueContext(sc)\n",
    "spark = glueContext.spark_session\n",
    "# Define the S3 path where the Parquet files are stored\n",
    "s3_path = \"s3://database-aft-vbi-pds/table_metadata_consolidated/\"\n",
    "# Use GlueContext to read the Parquet files into a DynamicFrame\n",
    "dynamic_frame = glueContext.create_dynamic_frame.from_options(\n",
    "    connection_type=\"s3\",\n",
    "    connection_options={\"paths\": [s3_path]},\n",
    "    format=\"parquet\"\n",
    ")\n",
    "# Convert the DynamicFrame to a DataFrame (if needed)\n",
    "df = dynamic_frame.toDF()\n",
    "# Show the contents of the DataFrame\n",
    "df.show(5)"
   ]
  },
  {
   "cell_type": "code",
   "execution_count": 8,
   "metadata": {},
   "outputs": [
    {
     "name": "stdout",
     "output_type": "stream",
     "text": [
      "<class 'pyspark.sql.column.Column'>\n"
     ]
    },
    {
     "name": "stderr",
     "output_type": "stream",
     "text": [
      "[Stage 4:>                                                        (0 + 11) / 11]\r"
     ]
    },
    {
     "name": "stdout",
     "output_type": "stream",
     "text": [
      "<class 'pandas.core.frame.DataFrame'>\n",
      "<class 'list'>\n"
     ]
    },
    {
     "name": "stderr",
     "output_type": "stream",
     "text": [
      "                                                                                \r"
     ]
    }
   ],
   "source": [
    "print(type(df['expected_quantity']))\n",
    "df_expected_quantity = df.select(\"expected_quantity\").toPandas()\n",
    "print(type(df_expected_quantity))\n",
    "expected_quantity = df_expected_quantity['expected_quantity'].tolist()\n",
    "print(type(expected_quantity))"
   ]
  },
  {
   "cell_type": "code",
   "execution_count": 20,
   "metadata": {},
   "outputs": [
    {
     "data": {
      "image/png": "[encoded data removed]",
      "text/plain": [
       "<Figure size 400x300 with 1 Axes>"
      ]
     },
     "metadata": {},
     "output_type": "display_data"
    }
   ],
   "source": [
    "import seaborn as sns\n",
    "import matplotlib.pyplot as plt\n",
    "plt.figure(figsize=(4, 3))\n",
    "unique_values = sorted(df_expected_quantity['expected_quantity'].unique())\n",
    "colors = sns.color_palette(\"Blues\", len(unique_values))\n",
    "# Plot the distribution of expected_quantity using seaborn\n",
    "sns.countplot(x=expected_quantity, palette=colors)\n",
    "plt.title(\"Distribution of Expected Quantity\")\n",
    "plt.xlabel(\"Expected Quantity\")\n",
    "plt.ylabel(\"Frequency\")\n",
    "plt.show()"
   ]
  },
  {
   "cell_type": "code",
   "execution_count": 24,
   "metadata": {},
   "outputs": [
    {
     "name": "stdout",
     "output_type": "stream",
     "text": [
      "+----------+-------------------------------------------------------------------------------------------------------------------------------------------------------------------------------------------------------+-------------------------------------------------------------------------------------------------------------------------------------------------------------------------------------------------------+--------+--------------------+-----------+---------------------+-----------+---------------------+----------+--------------------+-----------+\n",
      "|asin      |name                                                                                                                                                                                                   |normalized_name                                                                                                                                                                                        |quantity|height_value        |height_unit|length_value         |length_unit|width_value          |width_unit|weight_value        |weight_unit|\n",
      "+----------+-------------------------------------------------------------------------------------------------------------------------------------------------------------------------------------------------------+-------------------------------------------------------------------------------------------------------------------------------------------------------------------------------------------------------+--------+--------------------+-----------+---------------------+-----------+---------------------+----------+--------------------+-----------+\n",
      "|B00KUFFIQQ|SUMMER SALE! Stroller Organizer by Spark and Bee - BEST Quality Parent Console - Lifetime Warranty - FREE Ebook - Satisfaction Guaranteed - Perfect Baby Shower Gift and Jogger Accessory for Strollers|SUMMER SALE! Stroller Organizer by Spark and Bee - BEST Quality Parent Console - Lifetime Warranty - FREE Ebook - Satisfaction Guaranteed - Perfect Baby Shower Gift and Jogger Accessory for Strollers|1       |2.399999997552000000|IN         |13.399999986332000000|IN         |5.199999994696000000 |IN        |0.750000000000000000|pounds     |\n",
      "|B017TBS1PI|Knee Pillow - Firm, High Density Foam with Removable Fabric Pillowcase | Therapeutic Pillow Reduces Lower Back Pain, Migraines, Neck & Body Pain | Orthopedic & Ergonomic Knee Pillow for Side Sleepers|Knee Pillow - Firm, High Density Foam with Removable Fabric Pillowcase | Therapeutic Pillow Reduces Lower Back Pain, Migraines, Neck & Body Pain | Orthopedic & Ergonomic Knee Pillow for Side Sleepers|1       |3.299999996634000000|IN         |12.999999986740000000|IN         |12.599999987148000000|IN        |0.449999999622634200|pounds     |\n",
      "|B00B7M7CMO|BRICA Baby In-Sight Magical Firefly Auto Mirror for in Car Safety                                                                                                                                      |BRICA Baby In-Sight Magical Firefly Auto Mirror for in Car Safety                                                                                                                                      |2       |2.799999997143999500|IN         |14.399999985312000000|IN         |13.099999986638000000|IN        |1.800000000000000000|pounds     |\n",
      "|B01DDR0BX2|ORICO Smart Charging Desktop Surge Protector Power Strip with 3 AC Outlets and 4 USB Ports for Phones, Tablets, Laptops and Desktops (HPC-3A4U)                                                        |ORICO Smart Charging Desktop Surge Protector Power Strip with 3 AC Outlets and 4 USB Ports for Phones, Tablets, Laptops and Desktops (HPC-3A4U)                                                        |3       |1.999999997960000000|IN         |10.999999988780000000|IN         |3.499999996430000000 |IN        |0.749999999371057100|pounds     |\n",
      "|B00W3DO2OC|Decorative Cast Iron Wall Hook Rack | Vintage Design Hanger with 4 Hooks | For Coats, Hats, Keys, Towels, Clothes, Aprons etc |Wall Mounted |13.6 x 7”- With Screws And Anchors By Comfify             |Decorative Cast Iron Wall Hook Rack | Vintage Design Hanger with 4 Hooks | For Coats, Hats, Keys, Towels, Clothes, Aprons etc |Wall Mounted |13.6 x 7”- With Screws And Anchors By Comfify             |1       |1.999999997960000000|IN         |12.499999987250000000|IN         |5.999999993880000000 |IN        |1.699999998574395700|pounds     |\n",
      "|B00LFSM004|ERB Safety Products 19637 Americana Full Brim Vent Mega Ratchet Hard Hat, Size: 6 1/2 - 8, Gray                                                                                                        |ERB Safety Products 19637 Americana Full Brim Vent Mega Ratchet Hard Hat, Size: 6 1/2 - 8, Gray                                                                                                        |1       |6.499999993370000000|IN         |12.799999986944000000|IN         |10.799999988984000000|IN        |1.150000000000000000|pounds     |\n",
      "|B00TM7BLFA|Ready 2 Fish Tackle Box - 2 Tray                                                                                                                                                                       |Ready 2 Fish Tackle Box - 2 Tray                                                                                                                                                                       |2       |7.399999992452001000|IN         |13.899999985822001000|IN         |7.599999992248000000 |IN        |2.550000000000000000|pounds     |\n",
      "|B00YWYI106|INNOCESSORIES® Deluxe Pets Anti-slip Water Resistant Microfiber Suede Chair Loveseat Sofa Furniture Protector Slipcover (Chair, Tan)                                                                   |INNOCESSORIES® Deluxe Pets Anti-slip Water Resistant Microfiber Suede Chair Loveseat Sofa Furniture Protector Slipcover (Chair, Tan)                                                                   |1       |3.999999995920000000|IN         |14.699999985006000000|IN         |9.099999990718000000 |IN        |1.249999998951761800|pounds     |\n",
      "|B00I0444P0|Ty Beanie Boos Buddies Leona Blue Leopard Medium Plush                                                                                                                                                 |Ty Beanie Boos Buddies Leona Blue Leopard Medium Plush                                                                                                                                                 |3       |5.118110231000000000|IN         |11.496062980400000000|IN         |7.795275582600000000 |IN        |0.485012026093647000|pounds     |\n",
      "|B0156J3PUQ|Ultra Seal 1 Gallon Pitcher                                                                                                                                                                            |Ultra Seal 1 Gallon Pitcher                                                                                                                                                                            |1       |4.599999995308000000|IN         |9.699999990105999000 |IN         |8.999999990820000000 |IN        |0.599999999496845700|pounds     |\n",
      "|B00LSUK3YY|TheraFlu Multi Symptom Severe Cold Cough, Green Tea and Honey Lemon, 12 Count                                                                                                                          |TheraFlu Multi Symptom Severe Cold Cough, Green Tea and Honey Lemon, 12 Count                                                                                                                          |2       |3.399999996532000000|IN         |5.199999994696000000 |IN         |4.099999995818000000 |IN        |0.450000000000000000|pounds     |\n",
      "|B000CQBMD6|WARN 63936 ATV Center Plow Mounting Kit                                                                                                                                                                |WARN 63936 ATV Center Plow Mounting Kit                                                                                                                                                                |1       |2.899999997042000000|IN         |16.499999983170000000|IN         |9.899999989902000000 |IN        |7.450000000000000000|pounds     |\n",
      "|B01DFSFY2W|LePrene Perfect Bag 2 Bottle Insulated Neoprene Stylish Wine Carrier Lunch Travel Bag. Great Summer Beach Laptop Tote with Reinforced Cross-body Strap and Zipper                                      |LePrene Perfect Bag 2 Bottle Insulated Neoprene Stylish Wine Carrier Lunch Travel Bag. Great Summer Beach Laptop Tote with Reinforced Cross-body Strap and Zipper                                      |3       |1.599999998368000000|IN         |14.099999985618000000|IN         |13.999999985720000000|IN        |1.499999998742114200|pounds     |\n",
      "|B00AN7CEYU|Roommates Rmk2121Scs Mickey  And  Friends   Minnie Loves To Shop Peel  And  Stick Wall Decals                                                                                                          |Roommates Rmk2121Scs Mickey  And  Friends   Minnie Loves To Shop Peel  And  Stick Wall Decals                                                                                                          |1       |1.099999998878000300|IN         |10.999999988780000000|IN         |5.099999994798000000 |IN        |0.350000000000000000|pounds     |\n",
      "|B0191HP39K|Luxurious Sheets Set 1800 3-Line Collection Brushed Microfiber Deep Pocket - High Quality Super Soft and Comfortable Hotel Collection Sheets by Bellerose(Cal King,Sage)                               |Luxurious Sheets Set 1800 3-Line Collection Brushed Microfiber Deep Pocket - High Quality Super Soft and Comfortable Hotel Collection Sheets by Bellerose(Cal King,Sage)                               |1       |4.099999995818000000|IN         |10.699999989085999000|IN         |9.499999990310000000 |IN        |3.649999996939144000|pounds     |\n",
      "+----------+-------------------------------------------------------------------------------------------------------------------------------------------------------------------------------------------------------+-------------------------------------------------------------------------------------------------------------------------------------------------------------------------------------------------------+--------+--------------------+-----------+---------------------+-----------+---------------------+----------+--------------------+-----------+\n",
      "only showing top 15 rows\n",
      "\n"
     ]
    }
   ],
   "source": [
    "from pyspark.sql.functions import explode\n",
    "# Explode the bin_fcsku_data map\n",
    "df_exploded = df.select(\"expected_quantity\", explode(\"bin_fcsku_data\").alias(\"key\", \"fcsku_data\"))\n",
    "# Select the required fields from the fcsku_data struct\n",
    "df_items = df_exploded.select(\n",
    "    \"fcsku_data.asin\", \n",
    "    \"fcsku_data.name\", \n",
    "    df_exploded[\"fcsku_data.normalizedname\"].alias(\"normalized_name\"),\n",
    "    \"fcsku_data.quantity\",\n",
    "    df_exploded[\"fcsku_data.height.value\"].alias(\"height_value\"), \n",
    "    df_exploded[\"fcsku_data.height.unit\"].alias(\"height_unit\"), \n",
    "    df_exploded[\"fcsku_data.length.value\"].alias(\"length_value\"),\n",
    "    df_exploded[\"fcsku_data.length.unit\"].alias(\"length_unit\"), \n",
    "    df_exploded[\"fcsku_data.width.value\"].alias(\"width_value\"),\n",
    "    df_exploded[\"fcsku_data.width.unit\"].alias(\"width_unit\"), \n",
    "    df_exploded[\"fcsku_data.weight.value\"].alias(\"weight_value\"),\n",
    "    df_exploded[\"fcsku_data.weight.unit\"].alias(\"weight_unit\")\n",
    ")\n",
    "# Show the final result\n",
    "df_items.show(15, truncate=False)"
   ]
  },
  {
   "cell_type": "code",
   "execution_count": null,
   "metadata": {},
   "outputs": [
    {
     "data": {
      "text/plain": [
       "16187"
      ]
     },
     "execution_count": 34,
     "metadata": {},
     "output_type": "execute_result"
    }
   ],
   "source": [
    "## there are 16,187 unique ASINs in the dataset\n",
    "df_exploded.select(\"fcsku_data.asin\").distinct().count()"
   ]
  },
  {
   "cell_type": "code",
   "execution_count": 35,
   "metadata": {},
   "outputs": [
    {
     "name": "stderr",
     "output_type": "stream",
     "text": [
      "                                                                                \r"
     ]
    },
    {
     "data": {
      "text/plain": [
       "0"
      ]
     },
     "execution_count": 35,
     "metadata": {},
     "output_type": "execute_result"
    }
   ],
   "source": [
    "## there are 0 null ASINs in the dataset\n",
    "df_exploded.filter(df_exploded[\"fcsku_data.asin\"].isNull()).count()"
   ]
  },
  {
   "cell_type": "code",
   "execution_count": null,
   "metadata": {},
   "outputs": [
    {
     "name": "stdout",
     "output_type": "stream",
     "text": [
      "+----+\n",
      "|unit|\n",
      "+----+\n",
      "|null|\n",
      "|  IN|\n",
      "+----+\n",
      "\n"
     ]
    }
   ],
   "source": [
    "## there are null values in the height_unit column\n",
    "df_exploded.select(\"fcsku_data.height.unit\").distinct().show()"
   ]
  },
  {
   "cell_type": "code",
   "execution_count": null,
   "metadata": {},
   "outputs": [],
   "source": [
    "from pyspark.sql import functions as F\n",
    "\n",
    "# Group by 'asin' and aggregate the 'quantity' column\n",
    "df_quantity = df_exploded.groupBy(\"fcsku_data.asin\").agg(\n",
    "    F.first(\"fcsku_data.name\").alias(\"name\"),               # Keep the first occurrence of 'name'\n",
    "    F.first(\"fcsku_data.normalizedname\").alias(\"normalized_name\"),  # Rename 'normalizedname' to 'normalized_name'\n",
    "    F.sum(\"fcsku_data.quantity\").alias(\"total_quantity\"),    # Sum the 'quantity' for each asin\n",
    "    F.first(\"fcsku_data.height\").alias(\"height\"),            # Keep first occurrence of 'height'\n",
    "    F.first(\"fcsku_data.length\").alias(\"length\"),            # Keep first occurrence of 'length'\n",
    "    F.first(\"fcsku_data.width\").alias(\"width\"),              # Keep first occurrence of 'width'\n",
    "    F.first(\"fcsku_data.weight\").alias(\"weight\")             # Keep first occurrence of 'weight'\n",
    ")\n",
    "\n",
    "# Show the result\n",
    "aggregated_df.show(truncate=False)\n"
   ]
  }
 ],
 "metadata": {
  "kernelspec": {
   "display_name": "Python 3",
   "language": "python",
   "name": "python3"
  },
  "language_info": {
   "codemirror_mode": {
    "name": "ipython",
    "version": 3
   },
   "file_extension": ".py",
   "mimetype": "text/x-python",
   "name": "python",
   "nbconvert_exporter": "python",
   "pygments_lexer": "ipython3",
   "version": "3.10.2"
  }
 },
 "nbformat": 4,
 "nbformat_minor": 2
}
