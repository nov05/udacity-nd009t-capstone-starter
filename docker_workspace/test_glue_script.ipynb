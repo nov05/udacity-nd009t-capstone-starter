{
 "cells": [
  {
   "cell_type": "markdown",
   "metadata": {},
   "source": [
    "* notebook created by nov05 on 2025-01-21 "
   ]
  },
  {
   "cell_type": "code",
   "execution_count": 1,
   "metadata": {},
   "outputs": [
    {
     "name": "stderr",
     "output_type": "stream",
     "text": [
      "SLF4J: Class path contains multiple SLF4J bindings.\n",
      "SLF4J: Found binding in [jar:file:/home/glue_user/spark/jars/slf4j-reload4j-1.7.36.jar!/org/slf4j/impl/StaticLoggerBinder.class]\n",
      "SLF4J: Found binding in [jar:file:/home/glue_user/spark/jars/log4j-slf4j-impl-2.17.2.jar!/org/slf4j/impl/StaticLoggerBinder.class]\n",
      "SLF4J: Found binding in [jar:file:/home/glue_user/aws-glue-libs/jars/slf4j-reload4j-1.7.36.jar!/org/slf4j/impl/StaticLoggerBinder.class]\n",
      "SLF4J: Found binding in [jar:file:/home/glue_user/aws-glue-libs/jars/log4j-slf4j-impl-2.17.2.jar!/org/slf4j/impl/StaticLoggerBinder.class]\n",
      "SLF4J: See http://www.slf4j.org/codes.html#multiple_bindings for an explanation.\n",
      "SLF4J: Actual binding is of type [org.slf4j.impl.Reload4jLoggerFactory]\n",
      "log4j:WARN No appenders could be found for logger (org.apache.hadoop.metrics2.lib.MutableMetricsFactory).\n",
      "log4j:WARN Please initialize the log4j system properly.\n",
      "log4j:WARN See http://logging.apache.org/log4j/1.2/faq.html#noconfig for more info.\n",
      "/home/glue_user/spark/python/pyspark/sql/context.py:112: FutureWarning: Deprecated in 3.0.0. Use SparkSession.builder.getOrCreate() instead.\n",
      "  warnings.warn(\n"
     ]
    },
    {
     "name": "stdout",
     "output_type": "stream",
     "text": [
      "{\"area_id\": \"ocd-division/country:us/state:ga/cd:3\", \"on_behalf_of_id\": \"party/republican\", \"organization_id\": \"d56acebe-8fdc-47bc-8b53-20170a3214bc\", \"role\": \"member\", \"person_id\": \"0005af3a-9471-4d1f-9299-737fff4b9b46\", \"legislative_period_id\": \"term/103\"}\n",
      "{\"area_id\": \"ocd-division/country:us/state:ga/cd:3\", \"on_behalf_of_id\": \"party/republican\", \"organization_id\": \"d56acebe-8fdc-47bc-8b53-20170a3214bc\", \"role\": \"member\", \"person_id\": \"0005af3a-9471-4d1f-9299-737fff4b9b46\", \"legislative_period_id\": \"term/104\"}\n",
      "{\"area_id\": \"ocd-division/country:us/state:ga/cd:3\", \"on_behalf_of_id\": \"party/republican\", \"organization_id\": \"d56acebe-8fdc-47bc-8b53-20170a3214bc\", \"role\": \"member\", \"person_id\": \"0005af3a-9471-4d1f-9299-737fff4b9b46\", \"start_date\": \"1997-01-07\", \"legislative_period_id\": \"term/105\"}\n",
      "{\"area_id\": \"ocd-division/country:us/state:ga/cd:3\", \"on_behalf_of_id\": \"party/republican\", \"organization_id\": \"d56acebe-8fdc-47bc-8b53-20170a3214bc\", \"role\": \"member\", \"person_id\": \"0005af3a-9471-4d1f-9299-737fff4b9b46\", \"legislative_period_id\": \"term/106\"}\n",
      "{\"area_id\": \"ocd-division/country:us/state:ga/cd:3\", \"on_behalf_of_id\": \"party/republican\", \"organization_id\": \"d56acebe-8fdc-47bc-8b53-20170a3214bc\", \"role\": \"member\", \"person_id\": \"0005af3a-9471-4d1f-9299-737fff4b9b46\", \"legislative_period_id\": \"term/107\"}\n"
     ]
    },
    {
     "name": "stderr",
     "output_type": "stream",
     "text": [
      "/home/glue_user/spark/python/pyspark/sql/dataframe.py:127: UserWarning: DataFrame constructor is internal. Do not directly use it.\n",
      "  warnings.warn(\"DataFrame constructor is internal. Do not directly use it.\")\n",
      "                                                                                \r"
     ]
    },
    {
     "name": "stdout",
     "output_type": "stream",
     "text": [
      "🟢 test script has successfully ran\n"
     ]
    }
   ],
   "source": [
    "# import sys\n",
    "from awsglue.transforms import *\n",
    "# from awsglue.utils import getResolvedOptions\n",
    "from pyspark.context import SparkContext\n",
    "from awsglue.context import GlueContext\n",
    "from awsglue.job import Job\n",
    "\n",
    "sc = SparkContext()\n",
    "glueContext = GlueContext(sc)\n",
    "spark = glueContext.spark_session\n",
    "job = Job(glueContext)\n",
    "inputDF = glueContext.create_dynamic_frame_from_options(\n",
    "    connection_type=\"s3\",\n",
    "    connection_options = \n",
    "        {\"paths\": [\"s3://awsglue-datasets/examples/us-legislators/all/memberships.json\"]}, \n",
    "        format=\"json\"\n",
    ")\n",
    "inputDF.show(5)\n",
    "df = inputDF.toDF()\n",
    "df_pd = df.toPandas()\n",
    "print('🟢 test script has successfully ran')"
   ]
  }
 ],
 "metadata": {
  "kernelspec": {
   "display_name": "Python 3",
   "language": "python",
   "name": "python3"
  },
  "language_info": {
   "codemirror_mode": {
    "name": "ipython",
    "version": 3
   },
   "file_extension": ".py",
   "mimetype": "text/x-python",
   "name": "python",
   "nbconvert_exporter": "python",
   "pygments_lexer": "ipython3",
   "version": "3.10.2"
  }
 },
 "nbformat": 4,
 "nbformat_minor": 2
}
